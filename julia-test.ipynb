{
  "cells": [
    {
      "cell_type": "raw",
      "metadata": {},
      "source": [
        "---\n",
        "title: \"Julia?\"\n",
        "format: html\n",
        "---"
      ],
      "id": "36abd582"
    },
    {
      "cell_type": "markdown",
      "metadata": {},
      "source": [
        "# Testing julia code blocks\n",
        "\n",
        "\n",
        "```{julia}\n",
        "\n",
        "```"
      ],
      "id": "b80b51c3"
    }
  ],
  "metadata": {
    "kernelspec": {
      "display_name": "Python 3",
      "language": "python",
      "name": "python3"
    }
  },
  "nbformat": 4,
  "nbformat_minor": 5
}